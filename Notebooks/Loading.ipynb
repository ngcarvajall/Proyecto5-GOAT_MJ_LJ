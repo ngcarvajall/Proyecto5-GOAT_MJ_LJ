{
 "cells": [
  {
   "cell_type": "code",
   "execution_count": 20,
   "metadata": {},
   "outputs": [],
   "source": [
    "from bs4 import BeautifulSoup\n",
    "import random\n",
    "# Requests\n",
    "import requests\n",
    "from tqdm import tqdm\n",
    "import pandas as pd\n",
    "import numpy as np\n",
    "import sys\n",
    "import psycopg2\n",
    "from psycopg2 import OperationalError, errorcodes, errors\n",
    "import datetime\n",
    "\n",
    "import matplotlib.pyplot as plt\n",
    "import seaborn as sns\n",
    "\n",
    "pd.set_option('display.max_columns', None)"
   ]
  },
  {
   "cell_type": "code",
   "execution_count": 75,
   "metadata": {},
   "outputs": [],
   "source": [
    "franquicias_hist = pd.read_csv('../datos_finales/franquicias_historicas.csv')\n",
    "standings_2003 = pd.read_csv('../datos_finales/standings_2003.csv')\n",
    "salarios_jordan = pd.read_csv('../datos_finales/salarios_jordan.csv')\n",
    "df_regular_season_jordan = pd.read_csv('../datos_finales/regular_season_jordan.csv')\n",
    "df_temporadas_jordan = pd.read_csv('../datos_finales/temporadas_jordan.csv')\n",
    "df_playoffs_jordan = pd.read_csv('../datos_finales/playoffs_jordan.csv')\n",
    "df_campeonato_jordan = pd.read_csv('../datos_finales/campeonatos_jordan.csv')\n",
    "standings_2024 = pd.read_csv('../datos_finales/standings_2024.csv')\n",
    "salarios_lebron = pd.read_csv('../datos_finales/salarios_lebron.csv')\n",
    "df_regular_season_lebron = pd.read_csv('../datos_finales/regular_season_lebron.csv')\n",
    "df_playoff_lebron = pd.read_csv('../datos_finales/playoffs_lebron.csv')\n",
    "df_temporadas_lebron = pd.read_csv('../datos_finales/temporadas_lebron.csv')\n",
    "df_campeonato_lebron = pd.read_csv('../datos_finales/campeonatos_lebron.csv')"
   ]
  },
  {
   "cell_type": "code",
   "execution_count": 3,
   "metadata": {},
   "outputs": [],
   "source": [
    "try:\n",
    "    conexion = psycopg2.connect(\n",
    "    database = 'Supermercados',\n",
    "    user = 'postgres',\n",
    "    password = 'admin',\n",
    "    host = 'localhost',\n",
    "    port = '5432')\n",
    "except OperationalError as e: #el alias es e\n",
    "    if e.pgcode == errorcodes.INVALID_PASSWORD:\n",
    "        print('la contraseña es erronea')\n",
    "    elif e.pgcode == errorcodes.CONNECTION_EXCEPTION:\n",
    "        print('error de conexion')\n",
    "    else:\n",
    "        print(f'el error es el siguiente {e}')"
   ]
  },
  {
   "cell_type": "code",
   "execution_count": 79,
   "metadata": {},
   "outputs": [
    {
     "data": {
      "text/plain": [
       "team_code              object\n",
       "Salario                 int64\n",
       "Salario Actualizado     int64\n",
       "Id_temporada            int64\n",
       "dtype: object"
      ]
     },
     "execution_count": 79,
     "metadata": {},
     "output_type": "execute_result"
    }
   ],
   "source": [
    "salarios_lebron.dtypes"
   ]
  },
  {
   "cell_type": "code",
   "execution_count": 77,
   "metadata": {},
   "outputs": [
    {
     "data": {
      "text/plain": [
       "team_code              object\n",
       "Salario                 int64\n",
       "Salario Actualizado     int64\n",
       "Id_temporada            int64\n",
       "dtype: object"
      ]
     },
     "execution_count": 77,
     "metadata": {},
     "output_type": "execute_result"
    }
   ],
   "source": [
    "salarios_lebron.dtypes"
   ]
  },
  {
   "cell_type": "code",
   "execution_count": 80,
   "metadata": {},
   "outputs": [
    {
     "data": {
      "text/html": [
       "<div>\n",
       "<style scoped>\n",
       "    .dataframe tbody tr th:only-of-type {\n",
       "        vertical-align: middle;\n",
       "    }\n",
       "\n",
       "    .dataframe tbody tr th {\n",
       "        vertical-align: top;\n",
       "    }\n",
       "\n",
       "    .dataframe thead th {\n",
       "        text-align: right;\n",
       "    }\n",
       "</style>\n",
       "<table border=\"1\" class=\"dataframe\">\n",
       "  <thead>\n",
       "    <tr style=\"text-align: right;\">\n",
       "      <th></th>\n",
       "      <th>team_code</th>\n",
       "      <th>Salario</th>\n",
       "      <th>Salario Actualizado</th>\n",
       "      <th>Id_temporada</th>\n",
       "    </tr>\n",
       "  </thead>\n",
       "  <tbody>\n",
       "    <tr>\n",
       "      <th>0</th>\n",
       "      <td>LAL</td>\n",
       "      <td>47607350</td>\n",
       "      <td>47607350</td>\n",
       "      <td>21</td>\n",
       "    </tr>\n",
       "  </tbody>\n",
       "</table>\n",
       "</div>"
      ],
      "text/plain": [
       "  team_code   Salario  Salario Actualizado  Id_temporada\n",
       "0       LAL  47607350             47607350            21"
      ]
     },
     "execution_count": 80,
     "metadata": {},
     "output_type": "execute_result"
    }
   ],
   "source": [
    "salarios_lebron.head(1)"
   ]
  },
  {
   "cell_type": "code",
   "execution_count": null,
   "metadata": {},
   "outputs": [],
   "source": []
  }
 ],
 "metadata": {
  "kernelspec": {
   "display_name": "Python 3",
   "language": "python",
   "name": "python3"
  },
  "language_info": {
   "codemirror_mode": {
    "name": "ipython",
    "version": 3
   },
   "file_extension": ".py",
   "mimetype": "text/x-python",
   "name": "python",
   "nbconvert_exporter": "python",
   "pygments_lexer": "ipython3",
   "version": "3.11.9"
  }
 },
 "nbformat": 4,
 "nbformat_minor": 2
}
