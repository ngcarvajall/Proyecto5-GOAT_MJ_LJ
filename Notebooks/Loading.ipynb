{
 "cells": [
  {
   "cell_type": "code",
   "execution_count": 20,
   "metadata": {},
   "outputs": [],
   "source": [
    "import pandas as pd\n",
    "import numpy as np\n",
    "import sys\n",
    "import psycopg2\n",
    "from psycopg2 import OperationalError, errorcodes, errors\n",
    "\n",
    "import matplotlib.pyplot as plt\n",
    "import seaborn as sns\n",
    "\n",
    "pd.set_option('display.max_columns', None)"
   ]
  },
  {
   "cell_type": "code",
   "execution_count": 83,
   "metadata": {},
   "outputs": [
    {
     "ename": "ModuleNotFoundError",
     "evalue": "No module named 'src'",
     "output_type": "error",
     "traceback": [
      "\u001b[1;31m---------------------------------------------------------------------------\u001b[0m",
      "\u001b[1;31mModuleNotFoundError\u001b[0m                       Traceback (most recent call last)",
      "Cell \u001b[1;32mIn[83], line 1\u001b[0m\n\u001b[1;32m----> 1\u001b[0m \u001b[38;5;28;01mfrom\u001b[39;00m \u001b[38;5;21;01msrc\u001b[39;00m \u001b[38;5;28;01mimport\u001b[39;00m soporte_carga \u001b[38;5;28;01mas\u001b[39;00m sc\n\u001b[0;32m      2\u001b[0m \u001b[38;5;28;01mfrom\u001b[39;00m \u001b[38;5;21;01msrc\u001b[39;00m \u001b[38;5;28;01mimport\u001b[39;00m soporte_queries_creacion \u001b[38;5;28;01mas\u001b[39;00m sqc\n\u001b[0;32m      3\u001b[0m \u001b[38;5;28;01mimport\u001b[39;00m \u001b[38;5;21;01mwarnings\u001b[39;00m\n",
      "\u001b[1;31mModuleNotFoundError\u001b[0m: No module named 'src'"
     ]
    }
   ],
   "source": [
    "from src import soporte_carga as sc\n",
    "from src import soporte_queries_creacion as sqc\n",
    "import warnings\n",
    "warnings.filterwarnings(\"ignore\")"
   ]
  },
  {
   "cell_type": "code",
   "execution_count": 75,
   "metadata": {},
   "outputs": [],
   "source": [
    "franquicias_hist = pd.read_csv('../datos_finales/franquicias_historicas.csv')\n",
    "standings_2003 = pd.read_csv('../datos_finales/standings_2003.csv')\n",
    "salarios_jordan = pd.read_csv('../datos_finales/salarios_jordan.csv')\n",
    "df_regular_season_jordan = pd.read_csv('../datos_finales/regular_season_jordan.csv')\n",
    "df_temporadas_jordan = pd.read_csv('../datos_finales/temporadas_jordan.csv')\n",
    "df_playoffs_jordan = pd.read_csv('../datos_finales/playoffs_jordan.csv')\n",
    "df_campeonato_jordan = pd.read_csv('../datos_finales/campeonatos_jordan.csv')\n",
    "standings_2024 = pd.read_csv('../datos_finales/standings_2024.csv')\n",
    "salarios_lebron = pd.read_csv('../datos_finales/salarios_lebron.csv')\n",
    "df_regular_season_lebron = pd.read_csv('../datos_finales/regular_season_lebron.csv')\n",
    "df_playoff_lebron = pd.read_csv('../datos_finales/playoffs_lebron.csv')\n",
    "df_temporadas_lebron = pd.read_csv('../datos_finales/temporadas_lebron.csv')\n",
    "df_campeonato_lebron = pd.read_csv('../datos_finales/campeonatos_lebron.csv')"
   ]
  },
  {
   "cell_type": "code",
   "execution_count": null,
   "metadata": {},
   "outputs": [],
   "source": [
    "sc.crear_db('GOAT_DEBATE')\n",
    "conexion = sc.establecer_conn('GOAT_DEBATE', 'admin', 'postgres')\n",
    "\n",
    "conexion.cursor().execute(sqc.tabla_lastdance_mj)\n",
    "conexion.cursor().execute(sqc.tabla_lastdance_lj)\n",
    "conexion.cursor().execute(sqc.tabla_campeonatos_mj)\n",
    "conexion.cursor().execute(sqc.tabla_campeonatos_lj)\n",
    "conexion.cursor().execute(sqc.franquicias)\n",
    "conexion.cursor().execute(sqc.Temp_mj)\n",
    "conexion.cursor().execute(sqc.Temp_lj)\n",
    "conexion.cursor().execute(sqc.temp_regular_mj)\n",
    "conexion.cursor().execute(sqc.temp_regular_lj)\n",
    "conexion.cursor().execute(sqc.playoffs_mj)\n",
    "conexion.cursor().execute(sqc.playoffs_lj)\n",
    "conexion.cursor().execute(sqc.salarios_mj)\n",
    "conexion.cursor().execute(sqc.salarios_lj)"
   ]
  },
  {
   "cell_type": "code",
   "execution_count": 3,
   "metadata": {},
   "outputs": [],
   "source": [
    "try:\n",
    "    conexion = psycopg2.connect(\n",
    "    database = 'Supermercados',\n",
    "    user = 'postgres',\n",
    "    password = 'admin',\n",
    "    host = 'localhost',\n",
    "    port = '5432')\n",
    "except OperationalError as e: #el alias es e\n",
    "    if e.pgcode == errorcodes.INVALID_PASSWORD:\n",
    "        print('la contraseña es erronea')\n",
    "    elif e.pgcode == errorcodes.CONNECTION_EXCEPTION:\n",
    "        print('error de conexion')\n",
    "    else:\n",
    "        print(f'el error es el siguiente {e}')"
   ]
  },
  {
   "cell_type": "code",
   "execution_count": null,
   "metadata": {},
   "outputs": [],
   "source": []
  }
 ],
 "metadata": {
  "kernelspec": {
   "display_name": "Python 3",
   "language": "python",
   "name": "python3"
  },
  "language_info": {
   "codemirror_mode": {
    "name": "ipython",
    "version": 3
   },
   "file_extension": ".py",
   "mimetype": "text/x-python",
   "name": "python",
   "nbconvert_exporter": "python",
   "pygments_lexer": "ipython3",
   "version": "3.11.9"
  }
 },
 "nbformat": 4,
 "nbformat_minor": 2
}
