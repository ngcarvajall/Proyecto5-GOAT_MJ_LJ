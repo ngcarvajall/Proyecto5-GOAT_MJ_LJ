{
 "cells": [
  {
   "cell_type": "code",
   "execution_count": 13,
   "metadata": {},
   "outputs": [],
   "source": [
    "# Tratamiento de datos\n",
    "# -----------------------------------------------------------------------\n",
    "import pandas as pd\n",
    "import numpy as np\n",
    "\n",
    "# Uso de API's\n",
    "# -----------------------------------------------------------------------\n",
    "import requests\n",
    "import os\n",
    "import dotenv\n",
    "import json\n",
    "from src import support as s\n"
   ]
  },
  {
   "cell_type": "code",
   "execution_count": 3,
   "metadata": {},
   "outputs": [],
   "source": [
    "dotenv.load_dotenv()\n",
    "api_token = os.getenv('api_token')"
   ]
  },
  {
   "cell_type": "code",
   "execution_count": 4,
   "metadata": {},
   "outputs": [],
   "source": [
    "\n",
    "url = \"https://basketapi1.p.rapidapi.com/api/basketball/tournament/132/season/38191/standings/total\"\n",
    "\n",
    "headers = {\n",
    "\t\"x-rapidapi-key\": api_token,\n",
    "\t\"x-rapidapi-host\": \"basketapi1.p.rapidapi.com\"\n",
    "}\n",
    "\n",
    "response = requests.get(url, headers=headers)\n",
    "\n",
    "responsa = response.json()\n",
    "#extraccion de los standings en la 2002/2003"
   ]
  },
  {
   "cell_type": "code",
   "execution_count": 5,
   "metadata": {},
   "outputs": [],
   "source": [
    "with open('league_2003.json', 'w') as archivo_json:\n",
    "    json.dump(responsa, archivo_json, indent=4)"
   ]
  },
  {
   "cell_type": "code",
   "execution_count": 6,
   "metadata": {},
   "outputs": [
    {
     "data": {
      "text/plain": [
       "dict_keys(['standings'])"
      ]
     },
     "execution_count": 6,
     "metadata": {},
     "output_type": "execute_result"
    }
   ],
   "source": [
    "responsa.keys()"
   ]
  },
  {
   "cell_type": "code",
   "execution_count": 7,
   "metadata": {},
   "outputs": [
    {
     "data": {
      "text/plain": [
       "{'team': {'name': 'Phoenix Suns',\n",
       "  'slug': 'phoenix-suns',\n",
       "  'shortName': 'Suns',\n",
       "  'gender': 'M',\n",
       "  'sport': {'name': 'Basketball', 'slug': 'basketball', 'id': 2},\n",
       "  'userCount': 53406,\n",
       "  'nameCode': 'PHX',\n",
       "  'disabled': False,\n",
       "  'national': False,\n",
       "  'type': 0,\n",
       "  'id': 3416,\n",
       "  'teamColors': {'primary': '#e56020',\n",
       "   'secondary': '#1d1160',\n",
       "   'text': '#1d1160'},\n",
       "  'fieldTranslations': {'nameTranslation': {'ar': 'فونيكس سانز',\n",
       "    'ru': 'Финикс Санс'},\n",
       "   'shortNameTranslation': {}}},\n",
       " 'descriptions': [],\n",
       " 'position': 1,\n",
       " 'matches': 82,\n",
       " 'wins': 64,\n",
       " 'scoresFor': 9416,\n",
       " 'scoresAgainst': 8801,\n",
       " 'percentage': 0.78,\n",
       " 'gamesBehind': 0,\n",
       " 'streak': -1,\n",
       " 'id': 694091,\n",
       " 'losses': 18,\n",
       " 'draws': 0,\n",
       " 'scoreDiffFormatted': '+615'}"
      ]
     },
     "execution_count": 7,
     "metadata": {},
     "output_type": "execute_result"
    }
   ],
   "source": [
    "responsa['standings'][8]['rows'][0]\n",
    "#hasta aquí tengo el standings general de los equipos. Con el 0 me meto en el equipo 1"
   ]
  },
  {
   "cell_type": "code",
   "execution_count": 8,
   "metadata": {},
   "outputs": [
    {
     "data": {
      "text/plain": [
       "0.78"
      ]
     },
     "execution_count": 8,
     "metadata": {},
     "output_type": "execute_result"
    }
   ],
   "source": [
    "responsa['standings'][8]['rows'][0]['percentage']"
   ]
  },
  {
   "cell_type": "code",
   "execution_count": 15,
   "metadata": {},
   "outputs": [
    {
     "ename": "AttributeError",
     "evalue": "module 'src.support' has no attribute 'extraer_datos_equipos_df'",
     "output_type": "error",
     "traceback": [
      "\u001b[1;31m---------------------------------------------------------------------------\u001b[0m",
      "\u001b[1;31mAttributeError\u001b[0m                            Traceback (most recent call last)",
      "Cell \u001b[1;32mIn[15], line 1\u001b[0m\n\u001b[1;32m----> 1\u001b[0m \u001b[43ms\u001b[49m\u001b[38;5;241;43m.\u001b[39;49m\u001b[43mextraer_datos_equipos_df\u001b[49m(responsa, \u001b[38;5;241m30\u001b[39m)\n",
      "\u001b[1;31mAttributeError\u001b[0m: module 'src.support' has no attribute 'extraer_datos_equipos_df'"
     ]
    }
   ],
   "source": [
    "s.extraer_datos_equipos_df(responsa, 30)"
   ]
  },
  {
   "cell_type": "code",
   "execution_count": 44,
   "metadata": {},
   "outputs": [],
   "source": [
    "nombre_equipo = responsa['standings'][8]['rows'][0]['team']['name']\n",
    "nombre_corto = responsa['standings'][8]['rows'][0]['team']['shortName']\n",
    "name_code = responsa['standings'][8]['rows'][0]['team']['nameCode']\n",
    "position = responsa['standings'][8]['rows'][0]['position']\n",
    "partidos = responsa['standings'][8]['rows'][0]['matches']\n",
    "victorias= responsa['standings'][8]['rows'][0]['wins']\n",
    "derrotas = responsa['standings'][8]['rows'][0]['losses']\n",
    "per_vic = responsa['standings'][8]['rows'][0]['percentage']"
   ]
  },
  {
   "cell_type": "code",
   "execution_count": 45,
   "metadata": {},
   "outputs": [],
   "source": [
    "lista_diccionario = []\n",
    "for i in range(0,30):\n",
    "    nombre_equipo = responsa['standings'][8]['rows'][i]['team']['name']\n",
    "    nombre_corto = responsa['standings'][8]['rows'][i]['team']['shortName']\n",
    "    name_code = responsa['standings'][8]['rows'][i]['team']['nameCode']\n",
    "    position = responsa['standings'][8]['rows'][i]['position']\n",
    "    partidos = responsa['standings'][8]['rows'][i]['matches']\n",
    "    victorias= responsa['standings'][8]['rows'][i]['wins']\n",
    "    derrotas = responsa['standings'][8]['rows'][i]['losses']\n",
    "    per_vic = responsa['standings'][8]['rows'][i]['percentage']\n",
    "    diccionario = {'Equipo': nombre_equipo, \n",
    "                   'Nombre_comun': nombre_corto,\n",
    "                   'Codigo_equipo' : name_code,\n",
    "                   'Posicion': position, \n",
    "                   'Partidos': partidos,\n",
    "                   'Victorias': victorias,\n",
    "                   'Derrotas': derrotas,\n",
    "                   'Porcentaje_vic': per_vic}\n",
    "    lista_diccionario.append(diccionario)\n",
    "\n",
    "df = pd.DataFrame(lista_diccionario)"
   ]
  },
  {
   "cell_type": "code",
   "execution_count": 56,
   "metadata": {},
   "outputs": [],
   "source": [
    "df = pd.DataFrame(lista_diccionario)"
   ]
  },
  {
   "cell_type": "code",
   "execution_count": 57,
   "metadata": {},
   "outputs": [],
   "source": [
    "df.to_csv('../datos/equipos_2003.csv', index=False)"
   ]
  },
  {
   "cell_type": "code",
   "execution_count": null,
   "metadata": {},
   "outputs": [],
   "source": []
  }
 ],
 "metadata": {
  "kernelspec": {
   "display_name": "Python 3",
   "language": "python",
   "name": "python3"
  },
  "language_info": {
   "codemirror_mode": {
    "name": "ipython",
    "version": 3
   },
   "file_extension": ".py",
   "mimetype": "text/x-python",
   "name": "python",
   "nbconvert_exporter": "python",
   "pygments_lexer": "ipython3",
   "version": "3.11.9"
  }
 },
 "nbformat": 4,
 "nbformat_minor": 2
}
