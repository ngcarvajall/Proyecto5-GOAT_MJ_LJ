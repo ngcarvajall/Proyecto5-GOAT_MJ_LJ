{
 "cells": [
  {
   "cell_type": "code",
   "execution_count": 1,
   "metadata": {},
   "outputs": [],
   "source": [
    "# Importamos las librerías que necesitamos\n",
    "import numpy as np\n",
    "# Librerías de extracción de datos\n",
    "# -----------------------------------------------------------------------\n",
    "from bs4 import BeautifulSoup\n",
    "import requests\n",
    "import re\n",
    "# Tratamiento de datos\n",
    "# -----------------------------------------------------------------------\n",
    "import pandas as pd\n",
    "from tqdm import tqdm\n",
    "import random\n",
    "import time"
   ]
  },
  {
   "cell_type": "code",
   "execution_count": 7,
   "metadata": {},
   "outputs": [
    {
     "name": "stdout",
     "output_type": "stream",
     "text": [
      "200\n"
     ]
    }
   ],
   "source": [
    "# prueba para uno\n",
    "url_salarios_lebron = f'https://hoopshype.com/player/lebron-james/salary/'\n",
    "# Paso 2\n",
    "response = requests.get(url_salarios_lebron)\n",
    "# Paso 3\n",
    "if str(response) == '<Response [200]>':\n",
    "    print(response.status_code)\n",
    "    # Paso 4\n",
    "    sopa = (BeautifulSoup(response.content, 'html.parser'))\n",
    "    time.sleep(random.uniform(1,3))\n",
    "else: \n",
    "    print('Hay un error')\n",
    "    "
   ]
  },
  {
   "cell_type": "code",
   "execution_count": 20,
   "metadata": {},
   "outputs": [],
   "source": [
    "lista = sopa.findAll('div', {'class' : 'player-payroll'})\n",
    "#aqui saco la sopa de datos con las dos tablas"
   ]
  },
  {
   "cell_type": "code",
   "execution_count": 27,
   "metadata": {},
   "outputs": [],
   "source": [
    "# al tener dos tablas(una a futuro y otra del pasado, busco la del pasado)\n",
    "for i in lista:\n",
    "    if i.find('span').text == 'Past Salaries':\n",
    "        tabla_salarios_pasado = i.find('table')"
   ]
  },
  {
   "cell_type": "code",
   "execution_count": 58,
   "metadata": {},
   "outputs": [],
   "source": [
    "filas = tabla_salarios_pasado.find(\"tbody\").findAll('tr') # me quedo con las filas de informacion"
   ]
  },
  {
   "cell_type": "code",
   "execution_count": 59,
   "metadata": {},
   "outputs": [
    {
     "data": {
      "text/plain": [
       "21"
      ]
     },
     "execution_count": 59,
     "metadata": {},
     "output_type": "execute_result"
    }
   ],
   "source": [
    "len(filas)"
   ]
  },
  {
   "cell_type": "code",
   "execution_count": 60,
   "metadata": {},
   "outputs": [],
   "source": [
    "lista_vacia = []\n",
    "for fila in filas:\n",
    "    valores = fila.find_all('td')\n",
    "    temporada = valores[0].text.strip()\n",
    "    equipo = valores[1].text.strip()\n",
    "    salario = valores[2].text.strip()\n",
    "\n",
    "    diccionario = {'Temporada': temporada,\n",
    "               'Equipo': equipo,\n",
    "               'Salario': salario}\n",
    "    lista_vacia.append(diccionario)"
   ]
  },
  {
   "cell_type": "code",
   "execution_count": 61,
   "metadata": {},
   "outputs": [],
   "source": [
    "df = pd.DataFrame(lista_vacia)"
   ]
  },
  {
   "cell_type": "code",
   "execution_count": 62,
   "metadata": {},
   "outputs": [
    {
     "data": {
      "text/html": [
       "<div>\n",
       "<style scoped>\n",
       "    .dataframe tbody tr th:only-of-type {\n",
       "        vertical-align: middle;\n",
       "    }\n",
       "\n",
       "    .dataframe tbody tr th {\n",
       "        vertical-align: top;\n",
       "    }\n",
       "\n",
       "    .dataframe thead th {\n",
       "        text-align: right;\n",
       "    }\n",
       "</style>\n",
       "<table border=\"1\" class=\"dataframe\">\n",
       "  <thead>\n",
       "    <tr style=\"text-align: right;\">\n",
       "      <th></th>\n",
       "      <th>Temporada</th>\n",
       "      <th>Equipo</th>\n",
       "      <th>Salario</th>\n",
       "    </tr>\n",
       "  </thead>\n",
       "  <tbody>\n",
       "    <tr>\n",
       "      <th>0</th>\n",
       "      <td>2023/24</td>\n",
       "      <td>Los Angeles Lakers</td>\n",
       "      <td>$47,607,350 ($47,607,350*)</td>\n",
       "    </tr>\n",
       "    <tr>\n",
       "      <th>1</th>\n",
       "      <td>2022/23</td>\n",
       "      <td>Los Angeles Lakers</td>\n",
       "      <td>$44,474,988 ($45,795,529*)</td>\n",
       "    </tr>\n",
       "    <tr>\n",
       "      <th>2</th>\n",
       "      <td>2021/22</td>\n",
       "      <td>Los Angeles Lakers</td>\n",
       "      <td>$41,180,544 ($46,244,900*)</td>\n",
       "    </tr>\n",
       "    <tr>\n",
       "      <th>3</th>\n",
       "      <td>2020/21</td>\n",
       "      <td>Los Angeles Lakers</td>\n",
       "      <td>$39,219,566 ($46,417,307*)</td>\n",
       "    </tr>\n",
       "    <tr>\n",
       "      <th>4</th>\n",
       "      <td>2019/20</td>\n",
       "      <td>Los Angeles Lakers</td>\n",
       "      <td>$37,436,858 ($44,593,536*)</td>\n",
       "    </tr>\n",
       "    <tr>\n",
       "      <th>5</th>\n",
       "      <td>2018/19</td>\n",
       "      <td>Los Angeles Lakers</td>\n",
       "      <td>$35,654,150 ($43,170,146*)</td>\n",
       "    </tr>\n",
       "    <tr>\n",
       "      <th>6</th>\n",
       "      <td>2017/18</td>\n",
       "      <td>Cleveland Cavaliers</td>\n",
       "      <td>$33,285,709 ($41,459,735*)</td>\n",
       "    </tr>\n",
       "    <tr>\n",
       "      <th>7</th>\n",
       "      <td>2016/17</td>\n",
       "      <td>Cleveland Cavaliers</td>\n",
       "      <td>$30,963,450 ($39,197,185*)</td>\n",
       "    </tr>\n",
       "    <tr>\n",
       "      <th>8</th>\n",
       "      <td>2015/16</td>\n",
       "      <td>Cleveland Cavaliers</td>\n",
       "      <td>$22,970,500 ($29,368,777*)</td>\n",
       "    </tr>\n",
       "    <tr>\n",
       "      <th>9</th>\n",
       "      <td>2014/15</td>\n",
       "      <td>Cleveland Cavaliers</td>\n",
       "      <td>$20,644,400 ($26,427,427*)</td>\n",
       "    </tr>\n",
       "    <tr>\n",
       "      <th>10</th>\n",
       "      <td>2013/14</td>\n",
       "      <td>Miami Heat</td>\n",
       "      <td>$19,067,500 ($24,914,630*)</td>\n",
       "    </tr>\n",
       "    <tr>\n",
       "      <th>11</th>\n",
       "      <td>2012/13</td>\n",
       "      <td>Miami Heat</td>\n",
       "      <td>$17,545,000 ($23,327,453*)</td>\n",
       "    </tr>\n",
       "    <tr>\n",
       "      <th>12</th>\n",
       "      <td>2011/12</td>\n",
       "      <td>Miami Heat</td>\n",
       "      <td>$16,022,500 ($21,657,653*)</td>\n",
       "    </tr>\n",
       "    <tr>\n",
       "      <th>13</th>\n",
       "      <td>2010/11</td>\n",
       "      <td>Miami Heat</td>\n",
       "      <td>$14,500,000 ($20,297,205*)</td>\n",
       "    </tr>\n",
       "    <tr>\n",
       "      <th>14</th>\n",
       "      <td>2009/10</td>\n",
       "      <td>Cleveland Cavaliers</td>\n",
       "      <td>$15,779,912 ($22,321,508*)</td>\n",
       "    </tr>\n",
       "    <tr>\n",
       "      <th>15</th>\n",
       "      <td>2008/09</td>\n",
       "      <td>Cleveland Cavaliers</td>\n",
       "      <td>$14,410,581 ($20,093,677*)</td>\n",
       "    </tr>\n",
       "    <tr>\n",
       "      <th>16</th>\n",
       "      <td>2007/08</td>\n",
       "      <td>Cleveland Cavaliers</td>\n",
       "      <td>$13,041,250 ($19,097,502*)</td>\n",
       "    </tr>\n",
       "    <tr>\n",
       "      <th>17</th>\n",
       "      <td>2006/07</td>\n",
       "      <td>Cleveland Cavaliers</td>\n",
       "      <td>$5,828,090 ($8,763,936*)</td>\n",
       "    </tr>\n",
       "    <tr>\n",
       "      <th>18</th>\n",
       "      <td>2005/06</td>\n",
       "      <td>Cleveland Cavaliers</td>\n",
       "      <td>$4,621,800 ($7,250,142*)</td>\n",
       "    </tr>\n",
       "    <tr>\n",
       "      <th>19</th>\n",
       "      <td>2004/05</td>\n",
       "      <td>Cleveland Cavaliers</td>\n",
       "      <td>$4,320,360 ($6,948,764*)</td>\n",
       "    </tr>\n",
       "    <tr>\n",
       "      <th>20</th>\n",
       "      <td>2003/04</td>\n",
       "      <td>Cleveland Cavaliers</td>\n",
       "      <td>$4,018,920 ($6,675,060*)</td>\n",
       "    </tr>\n",
       "  </tbody>\n",
       "</table>\n",
       "</div>"
      ],
      "text/plain": [
       "   Temporada               Equipo                     Salario\n",
       "0    2023/24   Los Angeles Lakers  $47,607,350 ($47,607,350*)\n",
       "1    2022/23   Los Angeles Lakers  $44,474,988 ($45,795,529*)\n",
       "2    2021/22   Los Angeles Lakers  $41,180,544 ($46,244,900*)\n",
       "3    2020/21   Los Angeles Lakers  $39,219,566 ($46,417,307*)\n",
       "4    2019/20   Los Angeles Lakers  $37,436,858 ($44,593,536*)\n",
       "5    2018/19   Los Angeles Lakers  $35,654,150 ($43,170,146*)\n",
       "6    2017/18  Cleveland Cavaliers  $33,285,709 ($41,459,735*)\n",
       "7    2016/17  Cleveland Cavaliers  $30,963,450 ($39,197,185*)\n",
       "8    2015/16  Cleveland Cavaliers  $22,970,500 ($29,368,777*)\n",
       "9    2014/15  Cleveland Cavaliers  $20,644,400 ($26,427,427*)\n",
       "10   2013/14           Miami Heat  $19,067,500 ($24,914,630*)\n",
       "11   2012/13           Miami Heat  $17,545,000 ($23,327,453*)\n",
       "12   2011/12           Miami Heat  $16,022,500 ($21,657,653*)\n",
       "13   2010/11           Miami Heat  $14,500,000 ($20,297,205*)\n",
       "14   2009/10  Cleveland Cavaliers  $15,779,912 ($22,321,508*)\n",
       "15   2008/09  Cleveland Cavaliers  $14,410,581 ($20,093,677*)\n",
       "16   2007/08  Cleveland Cavaliers  $13,041,250 ($19,097,502*)\n",
       "17   2006/07  Cleveland Cavaliers    $5,828,090 ($8,763,936*)\n",
       "18   2005/06  Cleveland Cavaliers    $4,621,800 ($7,250,142*)\n",
       "19   2004/05  Cleveland Cavaliers    $4,320,360 ($6,948,764*)\n",
       "20   2003/04  Cleveland Cavaliers    $4,018,920 ($6,675,060*)"
      ]
     },
     "execution_count": 62,
     "metadata": {},
     "output_type": "execute_result"
    }
   ],
   "source": [
    "df"
   ]
  },
  {
   "cell_type": "markdown",
   "metadata": {},
   "source": [
    "Repetimos el proceso para Jordan"
   ]
  },
  {
   "cell_type": "code",
   "execution_count": 63,
   "metadata": {},
   "outputs": [
    {
     "name": "stdout",
     "output_type": "stream",
     "text": [
      "200\n"
     ]
    }
   ],
   "source": [
    "# prueba para uno\n",
    "url_salarios_jordan = f'https://hoopshype.com/player/michael-jordan/salary/'\n",
    "# Paso 2\n",
    "response_j = requests.get(url_salarios_jordan)\n",
    "# Paso 3\n",
    "if str(response_j) == '<Response [200]>':\n",
    "    print(response_j.status_code)\n",
    "    # Paso 4\n",
    "    sopa_jordan = (BeautifulSoup(response_j.content, 'html.parser'))\n",
    "    time.sleep(random.uniform(1,3))\n",
    "else: \n",
    "    print('Hay un error')\n",
    "    "
   ]
  },
  {
   "cell_type": "code",
   "execution_count": 64,
   "metadata": {},
   "outputs": [],
   "source": [
    "lista_jordan = sopa_jordan.findAll('div', {'class' : 'player-payroll'})\n",
    "#aqui saco la sopa de datos con las dos tablas"
   ]
  },
  {
   "cell_type": "code",
   "execution_count": 65,
   "metadata": {},
   "outputs": [],
   "source": [
    "# al tener dos tablas(una a futuro y otra del pasado, busco la del pasado)\n",
    "for i in lista_jordan:\n",
    "    if i.find('span').text == 'Past Salaries':\n",
    "        tabla_salarios_pasado_jordan = i.find('table')"
   ]
  },
  {
   "cell_type": "code",
   "execution_count": 67,
   "metadata": {},
   "outputs": [],
   "source": [
    "filas_jordan = tabla_salarios_pasado_jordan.find(\"tbody\").findAll('tr') # me quedo con las filas de informacion"
   ]
  },
  {
   "cell_type": "code",
   "execution_count": 68,
   "metadata": {},
   "outputs": [
    {
     "data": {
      "text/plain": [
       "10"
      ]
     },
     "execution_count": 68,
     "metadata": {},
     "output_type": "execute_result"
    }
   ],
   "source": [
    "len(filas_jordan)"
   ]
  },
  {
   "cell_type": "code",
   "execution_count": 69,
   "metadata": {},
   "outputs": [],
   "source": [
    "lista_vacia_jordan = []\n",
    "for fila in filas_jordan:\n",
    "    valores_j = fila.find_all('td')\n",
    "    temporada_j = valores_j[0].text.strip()\n",
    "    equipo_j = valores_j[1].text.strip()\n",
    "    salario_j = valores_j[2].text.strip()\n",
    "\n",
    "    diccionario_j = {'Temporada': temporada_j,\n",
    "               'Equipo': equipo_j,\n",
    "               'Salario': salario_j}\n",
    "    lista_vacia_jordan.append(diccionario_j)"
   ]
  },
  {
   "cell_type": "code",
   "execution_count": 70,
   "metadata": {},
   "outputs": [],
   "source": [
    "df_jordan = pd.DataFrame(lista_vacia_jordan)"
   ]
  },
  {
   "cell_type": "code",
   "execution_count": 72,
   "metadata": {},
   "outputs": [
    {
     "data": {
      "text/html": [
       "<div>\n",
       "<style scoped>\n",
       "    .dataframe tbody tr th:only-of-type {\n",
       "        vertical-align: middle;\n",
       "    }\n",
       "\n",
       "    .dataframe tbody tr th {\n",
       "        vertical-align: top;\n",
       "    }\n",
       "\n",
       "    .dataframe thead th {\n",
       "        text-align: right;\n",
       "    }\n",
       "</style>\n",
       "<table border=\"1\" class=\"dataframe\">\n",
       "  <thead>\n",
       "    <tr style=\"text-align: right;\">\n",
       "      <th></th>\n",
       "      <th>Temporada</th>\n",
       "      <th>Equipo</th>\n",
       "      <th>Salario</th>\n",
       "    </tr>\n",
       "  </thead>\n",
       "  <tbody>\n",
       "    <tr>\n",
       "      <th>0</th>\n",
       "      <td>2002/03</td>\n",
       "      <td>Washington Wizards</td>\n",
       "      <td>$1,030,000 ($1,746,871*)</td>\n",
       "    </tr>\n",
       "    <tr>\n",
       "      <th>1</th>\n",
       "      <td>2001/02</td>\n",
       "      <td>Washington Wizards</td>\n",
       "      <td>$1,000,000 ($1,714,095*)</td>\n",
       "    </tr>\n",
       "    <tr>\n",
       "      <th>2</th>\n",
       "      <td>1997/98</td>\n",
       "      <td>Chicago Bulls</td>\n",
       "      <td>$33,140,000 ($63,077,431*)</td>\n",
       "    </tr>\n",
       "    <tr>\n",
       "      <th>3</th>\n",
       "      <td>1996/97</td>\n",
       "      <td>Chicago Bulls</td>\n",
       "      <td>$30,140,000 ($58,685,292*)</td>\n",
       "    </tr>\n",
       "    <tr>\n",
       "      <th>4</th>\n",
       "      <td>1995/96</td>\n",
       "      <td>Chicago Bulls</td>\n",
       "      <td>$3,850,000 ($7,702,751*)</td>\n",
       "    </tr>\n",
       "    <tr>\n",
       "      <th>5</th>\n",
       "      <td>1994/95</td>\n",
       "      <td>Chicago Bulls</td>\n",
       "      <td>$3,850,000 ($7,936,957*)</td>\n",
       "    </tr>\n",
       "    <tr>\n",
       "      <th>6</th>\n",
       "      <td>1993/94</td>\n",
       "      <td>Chicago Bulls</td>\n",
       "      <td>$4,000,000 ($8,451,772*)</td>\n",
       "    </tr>\n",
       "    <tr>\n",
       "      <th>7</th>\n",
       "      <td>1992/93</td>\n",
       "      <td>Chicago Bulls</td>\n",
       "      <td>$4,000,000 ($8,704,964*)</td>\n",
       "    </tr>\n",
       "    <tr>\n",
       "      <th>8</th>\n",
       "      <td>1991/92</td>\n",
       "      <td>Chicago Bulls</td>\n",
       "      <td>$3,250,000 ($7,291,207*)</td>\n",
       "    </tr>\n",
       "    <tr>\n",
       "      <th>9</th>\n",
       "      <td>1990/91</td>\n",
       "      <td>Chicago Bulls</td>\n",
       "      <td>$2,500,000 ($5,871,997*)</td>\n",
       "    </tr>\n",
       "  </tbody>\n",
       "</table>\n",
       "</div>"
      ],
      "text/plain": [
       "  Temporada              Equipo                     Salario\n",
       "0   2002/03  Washington Wizards    $1,030,000 ($1,746,871*)\n",
       "1   2001/02  Washington Wizards    $1,000,000 ($1,714,095*)\n",
       "2   1997/98       Chicago Bulls  $33,140,000 ($63,077,431*)\n",
       "3   1996/97       Chicago Bulls  $30,140,000 ($58,685,292*)\n",
       "4   1995/96       Chicago Bulls    $3,850,000 ($7,702,751*)\n",
       "5   1994/95       Chicago Bulls    $3,850,000 ($7,936,957*)\n",
       "6   1993/94       Chicago Bulls    $4,000,000 ($8,451,772*)\n",
       "7   1992/93       Chicago Bulls    $4,000,000 ($8,704,964*)\n",
       "8   1991/92       Chicago Bulls    $3,250,000 ($7,291,207*)\n",
       "9   1990/91       Chicago Bulls    $2,500,000 ($5,871,997*)"
      ]
     },
     "execution_count": 72,
     "metadata": {},
     "output_type": "execute_result"
    }
   ],
   "source": [
    "df_jordan"
   ]
  }
 ],
 "metadata": {
  "kernelspec": {
   "display_name": "Python 3",
   "language": "python",
   "name": "python3"
  },
  "language_info": {
   "codemirror_mode": {
    "name": "ipython",
    "version": 3
   },
   "file_extension": ".py",
   "mimetype": "text/x-python",
   "name": "python",
   "nbconvert_exporter": "python",
   "pygments_lexer": "ipython3",
   "version": "3.11.9"
  }
 },
 "nbformat": 4,
 "nbformat_minor": 2
}
