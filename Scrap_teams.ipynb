{
 "cells": [
  {
   "cell_type": "code",
   "execution_count": 1,
   "metadata": {},
   "outputs": [],
   "source": [
    "# Importamos las librerías que necesitamos\n",
    "import numpy as np\n",
    "# Librerías de extracción de datos\n",
    "# -----------------------------------------------------------------------\n",
    "from bs4 import BeautifulSoup\n",
    "import requests\n",
    "import re\n",
    "# Tratamiento de datos\n",
    "# -----------------------------------------------------------------------\n",
    "import pandas as pd\n",
    "pd.set_option('display.max_rows', None)       # Show all rows\n",
    "pd.set_option('display.max_columns', None)    # Show all columns\n",
    "pd.set_option('display.width', 1000)          # Set the width to accommodate more columns\n",
    "pd.set_option('display.max_colwidth', None)   # Set maximum column width to None (auto adjust)\n",
    "pd.set_option('display.float_format', '{:.2f}'.format)"
   ]
  },
  {
   "cell_type": "code",
   "execution_count": 2,
   "metadata": {},
   "outputs": [
    {
     "name": "stdout",
     "output_type": "stream",
     "text": [
      "200\n"
     ]
    }
   ],
   "source": [
    "url_campeonatos = f'https://www.basketball-reference.com/teams/'\n",
    "\n",
    "response = requests.get(url_campeonatos)\n",
    "\n",
    "if str(response) == '<Response [200]>':\n",
    "    print(response.status_code)\n",
    "    sopa = BeautifulSoup(response.content, 'html.parser')\n",
    "else:\n",
    "    print('Hay un error')"
   ]
  },
  {
   "cell_type": "code",
   "execution_count": 3,
   "metadata": {},
   "outputs": [],
   "source": [
    "tabla = sopa.find(\"div\", id=\"div_teams_active\").find(\"table\")"
   ]
  },
  {
   "cell_type": "code",
   "execution_count": 4,
   "metadata": {},
   "outputs": [],
   "source": [
    "filas = tabla.find('tbody').find_all('tr')"
   ]
  },
  {
   "cell_type": "code",
   "execution_count": 5,
   "metadata": {},
   "outputs": [],
   "source": [
    "team_data = [] # lista vacia para ir colocando todo mi diccionario\n",
    "\n",
    "for i in filas: #itera sobre cada fila\n",
    "    # Ignorar filas que sean comentarios o separadores\n",
    "    if i.get('class') == ['thead']:\n",
    "        continue\n",
    "    \n",
    "    # Obtener el nombre de la franquicia desde el primer 'th'\n",
    "    franquicia = i.find(\"th\").text.strip()\n",
    "    \n",
    "    # Obtener los demás valores desde 'td'\n",
    "    valores = i.find_all(\"td\")\n",
    "    \n",
    "        # Asegúrate de que no haya filas vacías\n",
    "    \n",
    "    liga = valores[0].text.strip()\n",
    "    desde = valores[1].text.strip()\n",
    "    hasta = valores[2].text.strip()\n",
    "    anios = valores[3].text.strip()\n",
    "    partidos = valores[4].text.strip()\n",
    "    victorias = valores[5].text.strip()\n",
    "    derrotas = valores[6].text.strip()\n",
    "    porcentage_vic = valores[7].text.strip()\n",
    "    playoffs = valores[8].text.strip()\n",
    "    div_titulos = valores[9].text.strip()\n",
    "    conf_titulos = valores[10].text.strip()\n",
    "    campeonatos = valores[11].text.strip()\n",
    "    \n",
    "    # Agregar los datos a la lista principal\n",
    "    team_data.append([\n",
    "        franquicia, liga, desde, hasta, anios, partidos, victorias, \n",
    "        derrotas, porcentage_vic, playoffs, div_titulos, conf_titulos, campeonatos\n",
    "    ])\n",
    "\n",
    "# Convertir la lista de listas a un DataFrame de pandas\n",
    "df = pd.DataFrame(team_data, columns=[\n",
    "    \"Franquicia\", \"Liga\", \"Desde\", \"Hasta\", \"Anios\", \"G\", \"W\", \"L\", \"W/L%\", \n",
    "    \"Plyfs\", \"Div\", \"Conf\", \"Champ\"\n",
    "])"
   ]
  },
  {
   "cell_type": "code",
   "execution_count": 21,
   "metadata": {},
   "outputs": [
    {
     "data": {
      "text/plain": [
       "62"
      ]
     },
     "execution_count": 21,
     "metadata": {},
     "output_type": "execute_result"
    }
   ],
   "source": [
    "len(df['Franquicia'].unique())"
   ]
  },
  {
   "cell_type": "code",
   "execution_count": 8,
   "metadata": {},
   "outputs": [],
   "source": [
    "team_codes = {\n",
    "    'Atlanta Hawks': 'ATL',\n",
    "    'St. Louis Hawks': 'STL',\n",
    "    'Milwaukee Hawks': 'MIL_HAWKS',\n",
    "    'Tri-Cities Blackhawks': 'TCB',\n",
    "    'Boston Celtics': 'BOS',\n",
    "    'Brooklyn Nets': 'BKN',\n",
    "    'New Jersey Nets': 'NJN',\n",
    "    'New York Nets': 'NYN',\n",
    "    'New Jersey Americans': 'NJA',\n",
    "    'Charlotte Hornets': 'CHA',\n",
    "    'Charlotte Bobcats': 'CHA_BOB',\n",
    "    'Chicago Bulls': 'CHI',\n",
    "    'Cleveland Cavaliers': 'CLE',\n",
    "    'Dallas Mavericks': 'DAL',\n",
    "    'Denver Nuggets': 'DEN',\n",
    "    'Denver Rockets': 'DEN_ROCK',\n",
    "    'Detroit Pistons': 'DET',\n",
    "    'Fort Wayne Pistons': 'FTW',\n",
    "    'Golden State Warriors': 'GSW',\n",
    "    'San Francisco Warriors': 'SFW',\n",
    "    'Philadelphia Warriors': 'PHW',\n",
    "    'Houston Rockets': 'HOU',\n",
    "    'San Diego Rockets': 'SDR',\n",
    "    'Indiana Pacers': 'IND',\n",
    "    'Los Angeles Clippers': 'LAC',\n",
    "    'San Diego Clippers': 'SDC',\n",
    "    'Buffalo Braves': 'BUF',\n",
    "    'Los Angeles Lakers': 'LAL',\n",
    "    'Minneapolis Lakers': 'MPLS',\n",
    "    'Memphis Grizzlies': 'MEM',\n",
    "    'Vancouver Grizzlies': 'VAN',\n",
    "    'Miami Heat': 'MIA',\n",
    "    'Milwaukee Bucks': 'MIL',\n",
    "    'Minnesota Timberwolves': 'MIN',\n",
    "    'New Orleans Pelicans': 'NOP',\n",
    "    'NO/Ok. City Hornets': 'NOK',\n",
    "    'New Orleans Hornets': 'NOH',\n",
    "    'New York Knicks': 'NYK',\n",
    "    'Oklahoma City Thunder': 'OKC',\n",
    "    'Seattle SuperSonics': 'SEA',\n",
    "    'Orlando Magic': 'ORL',\n",
    "    'Philadelphia 76ers': 'PHI',\n",
    "    'Syracuse Nationals': 'SYR',\n",
    "    'Phoenix Suns': 'PHX',\n",
    "    'Portland Trail Blazers': 'POR',\n",
    "    'Sacramento Kings': 'SAC',\n",
    "    'Kansas City Kings': 'KCK',\n",
    "    'Kansas City-Omaha Kings': 'KCO',\n",
    "    'Cincinnati Royals': 'CIN',\n",
    "    'Rochester Royals': 'ROC',\n",
    "    'San Antonio Spurs': 'SAS',\n",
    "    'Texas Chaparrals': 'TEX',\n",
    "    'Dallas Chaparrals': 'DAL_CHA',\n",
    "    'Toronto Raptors': 'TOR',\n",
    "    'Utah Jazz': 'UTA',\n",
    "    'New Orleans Jazz': 'NOJ',\n",
    "    'Washington Wizards': 'WAS',\n",
    "    'Washington Bullets': 'WSB',\n",
    "    'Capital Bullets': 'CAP',\n",
    "    'Baltimore Bullets': 'BAL',\n",
    "    'Chicago Zephyrs': 'CHI_ZEP',\n",
    "    'Chicago Packers': 'CHI_PAK'\n",
    "}\n"
   ]
  },
  {
   "cell_type": "code",
   "execution_count": 22,
   "metadata": {},
   "outputs": [
    {
     "data": {
      "text/plain": [
       "62"
      ]
     },
     "execution_count": 22,
     "metadata": {},
     "output_type": "execute_result"
    }
   ],
   "source": [
    "len(team_codes)"
   ]
  },
  {
   "cell_type": "code",
   "execution_count": 10,
   "metadata": {},
   "outputs": [],
   "source": [
    "df['team_code'] = df['Franquicia'].map(team_codes)\n"
   ]
  },
  {
   "cell_type": "code",
   "execution_count": 12,
   "metadata": {},
   "outputs": [
    {
     "data": {
      "text/html": [
       "<div>\n",
       "<style scoped>\n",
       "    .dataframe tbody tr th:only-of-type {\n",
       "        vertical-align: middle;\n",
       "    }\n",
       "\n",
       "    .dataframe tbody tr th {\n",
       "        vertical-align: top;\n",
       "    }\n",
       "\n",
       "    .dataframe thead th {\n",
       "        text-align: right;\n",
       "    }\n",
       "</style>\n",
       "<table border=\"1\" class=\"dataframe\">\n",
       "  <thead>\n",
       "    <tr style=\"text-align: right;\">\n",
       "      <th></th>\n",
       "      <th>Franquicia</th>\n",
       "      <th>Liga</th>\n",
       "      <th>Desde</th>\n",
       "      <th>Hasta</th>\n",
       "      <th>Anios</th>\n",
       "      <th>G</th>\n",
       "      <th>W</th>\n",
       "      <th>L</th>\n",
       "      <th>W/L%</th>\n",
       "      <th>Plyfs</th>\n",
       "      <th>Div</th>\n",
       "      <th>Conf</th>\n",
       "      <th>Champ</th>\n",
       "      <th>team_code</th>\n",
       "    </tr>\n",
       "  </thead>\n",
       "  <tbody>\n",
       "    <tr>\n",
       "      <th>0</th>\n",
       "      <td>Atlanta Hawks</td>\n",
       "      <td>NBA</td>\n",
       "      <td>1949-50</td>\n",
       "      <td>2024-25</td>\n",
       "      <td>76</td>\n",
       "      <td>5943</td>\n",
       "      <td>2929</td>\n",
       "      <td>3014</td>\n",
       "      <td>.493</td>\n",
       "      <td>49</td>\n",
       "      <td>12</td>\n",
       "      <td>0</td>\n",
       "      <td>1</td>\n",
       "      <td>ATL</td>\n",
       "    </tr>\n",
       "  </tbody>\n",
       "</table>\n",
       "</div>"
      ],
      "text/plain": [
       "      Franquicia Liga    Desde    Hasta Anios     G     W     L  W/L% Plyfs Div Conf Champ team_code\n",
       "0  Atlanta Hawks  NBA  1949-50  2024-25    76  5943  2929  3014  .493    49  12    0     1       ATL"
      ]
     },
     "execution_count": 12,
     "metadata": {},
     "output_type": "execute_result"
    }
   ],
   "source": [
    "df.head(1)"
   ]
  },
  {
   "cell_type": "code",
   "execution_count": 13,
   "metadata": {},
   "outputs": [],
   "source": [
    "columnas = df.columns.tolist()\n",
    "columnas.insert(1, columnas.pop(columnas.index('team_code')))\n",
    "\n",
    "df = df[columnas]"
   ]
  },
  {
   "cell_type": "code",
   "execution_count": 20,
   "metadata": {},
   "outputs": [
    {
     "data": {
      "text/html": [
       "<div>\n",
       "<style scoped>\n",
       "    .dataframe tbody tr th:only-of-type {\n",
       "        vertical-align: middle;\n",
       "    }\n",
       "\n",
       "    .dataframe tbody tr th {\n",
       "        vertical-align: top;\n",
       "    }\n",
       "\n",
       "    .dataframe thead th {\n",
       "        text-align: right;\n",
       "    }\n",
       "</style>\n",
       "<table border=\"1\" class=\"dataframe\">\n",
       "  <thead>\n",
       "    <tr style=\"text-align: right;\">\n",
       "      <th></th>\n",
       "      <th>Franquicia</th>\n",
       "      <th>team_code</th>\n",
       "      <th>Liga</th>\n",
       "      <th>Desde</th>\n",
       "      <th>Hasta</th>\n",
       "      <th>Anios</th>\n",
       "      <th>G</th>\n",
       "      <th>W</th>\n",
       "      <th>L</th>\n",
       "      <th>W/L%</th>\n",
       "      <th>Plyfs</th>\n",
       "      <th>Div</th>\n",
       "      <th>Conf</th>\n",
       "      <th>Champ</th>\n",
       "    </tr>\n",
       "  </thead>\n",
       "  <tbody>\n",
       "    <tr>\n",
       "      <th>40</th>\n",
       "      <td>Los Angeles Lakers</td>\n",
       "      <td>LAL</td>\n",
       "      <td>NBA/BAA</td>\n",
       "      <td>1948-49</td>\n",
       "      <td>2024-25</td>\n",
       "      <td>77</td>\n",
       "      <td>6010</td>\n",
       "      <td>3554</td>\n",
       "      <td>2456</td>\n",
       "      <td>.591</td>\n",
       "      <td>64</td>\n",
       "      <td>33</td>\n",
       "      <td>19</td>\n",
       "      <td>17</td>\n",
       "    </tr>\n",
       "    <tr>\n",
       "      <th>41</th>\n",
       "      <td>Los Angeles Lakers</td>\n",
       "      <td>LAL</td>\n",
       "      <td>NBA</td>\n",
       "      <td>1960-61</td>\n",
       "      <td>2024-25</td>\n",
       "      <td>65</td>\n",
       "      <td>5171</td>\n",
       "      <td>3097</td>\n",
       "      <td>2074</td>\n",
       "      <td>.599</td>\n",
       "      <td>53</td>\n",
       "      <td>29</td>\n",
       "      <td>19</td>\n",
       "      <td>12</td>\n",
       "    </tr>\n",
       "  </tbody>\n",
       "</table>\n",
       "</div>"
      ],
      "text/plain": [
       "            Franquicia team_code     Liga    Desde    Hasta Anios     G     W     L  W/L% Plyfs Div Conf Champ\n",
       "40  Los Angeles Lakers       LAL  NBA/BAA  1948-49  2024-25    77  6010  3554  2456  .591    64  33   19    17\n",
       "41  Los Angeles Lakers       LAL      NBA  1960-61  2024-25    65  5171  3097  2074  .599    53  29   19    12"
      ]
     },
     "execution_count": 20,
     "metadata": {},
     "output_type": "execute_result"
    }
   ],
   "source": [
    "df[df['team_code'] == 'LAL']"
   ]
  },
  {
   "cell_type": "code",
   "execution_count": null,
   "metadata": {},
   "outputs": [],
   "source": []
  }
 ],
 "metadata": {
  "kernelspec": {
   "display_name": "Python 3",
   "language": "python",
   "name": "python3"
  },
  "language_info": {
   "codemirror_mode": {
    "name": "ipython",
    "version": 3
   },
   "file_extension": ".py",
   "mimetype": "text/x-python",
   "name": "python",
   "nbconvert_exporter": "python",
   "pygments_lexer": "ipython3",
   "version": "3.11.9"
  }
 },
 "nbformat": 4,
 "nbformat_minor": 2
}
